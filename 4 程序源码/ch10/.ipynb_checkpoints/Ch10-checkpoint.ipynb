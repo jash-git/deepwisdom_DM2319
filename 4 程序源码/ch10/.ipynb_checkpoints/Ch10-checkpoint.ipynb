{
 "cells": [
  {
   "cell_type": "markdown",
   "metadata": {},
   "source": [
    "# 【例10.1】BP神经网络的Python实现。"
   ]
  },
  {
   "cell_type": "code",
   "execution_count": 3,
   "metadata": {},
   "outputs": [
    {
     "name": "stdout",
     "output_type": "stream",
     "text": [
      "Step1: 初始化参数...\n",
      "Step2: fit...\n",
      "Step3: predict...\n",
      "  真值为： [0, 1]\n",
      "  迭代 0 次后的输出为： 0.7444102846297973 0.7490681498889493\n",
      "  迭代 5 次后的输出为： 0.6544573198198211 0.7737427975602681\n",
      "  迭代 10 次后的输出为： 0.4189355083200056 0.8254607166474437\n",
      "  迭代 15 次后的输出为： 0.16887284155339957 0.8724507802691454\n",
      "  迭代 20 次后的输出为： 0.1181405554466929 0.8977334952467485\n",
      "  迭代 25 次后的输出为： 0.09253692424317118 0.915206811708323\n",
      "  迭代 30 次后的输出为： 0.07651328891392468 0.9277876704729726\n",
      "  迭代 35 次后的输出为： 0.06539599639256599 0.9372033821399455\n",
      "  迭代 40 次后的输出为： 0.05718067913698188 0.9444865186877683\n",
      "  迭代 45 次后的输出为： 0.050841218189917006 0.9502758549409513\n",
      "  迭代 50 次后的输出为： 0.045790949215356945 0.9549826076463102\n",
      "Step4:Plot...\n"
     ]
    },
    {
     "data": {
      "image/png": "[encoded data removed]",
      "text/plain": [
       "<Figure size 432x288 with 1 Axes>"
      ]
     },
     "metadata": {},
     "output_type": "display_data"
    }
   ],
   "source": [
    "import numpy as np\n",
    "import matplotlib.pyplot as plt\n",
    "\n",
    "#定义Sigmoid变换函数\n",
    "def sigmoid(x):\n",
    "    return 1/(1+np.exp(-x))    \n",
    "\n",
    "#BP算法中的前向计算过程\n",
    "def forward_NN(x,w,b):\n",
    "    #隐藏层输出\n",
    "    h1 = sigmoid(w[0] * x[0] + w[1] * x[1] + b[0])\n",
    "    h2 = sigmoid(w[2] * x[0] + w[3] * x[1] + b[0])\n",
    "    h3 = sigmoid(w[4] * x[0] + w[5] * x[1] + b[0])\n",
    "    #print(h1,h2,h3) 查看中间值\n",
    "    #最终输出\n",
    "    o1 = sigmoid(w[6] * h1 + w[8] * h2+ w[10] * h3 + b[1])\n",
    "    o2 = sigmoid(w[7] * h1 + w[9] * h2+ w[11] * h3 + b[1])\n",
    "    return h1,h2,h3,o1,o2\n",
    "\n",
    "#反向传递，调整参数\n",
    "def fit(o1,o2,y,x,w,lrate,epochs):\n",
    "    #循环迭代，调整参数w\n",
    "    for i in range(epochs):\n",
    "        p1=lrate *(o1-y[0])*o1*(1-o1)\n",
    "        p2=lrate *(o2-y[1])*o2*(1-o2)\n",
    "        #w11到w16\n",
    "        w[0] = w[0] - (p1 * w[6] + p2 * w[7]) * h1 * (1 - h1) * x[0]\n",
    "        w[1] = w[1] - (p1 * w[6] + p2 * w[7]) * h1 * (1 - h1) * x[1]\n",
    "        w[2] = w[2] - (p1 * w[8] + p2 * w[9]) * h2 * (1 - h2) * x[0]\n",
    "        w[3] = w[3] - (p1 * w[8] + p2 * w[9]) * h2 * (1 - h2) * x[1]\n",
    "        w[4] = w[4] - (p1 * w[10]+ p2 *w[11]) * h3 * (1 - h3) * x[0]\n",
    "        w[5] = w[5] - (p1 * w[10]+ p2 *w[11]) * h3 * (1 - h3) * x[1]\n",
    "\n",
    "        #w21到w26\n",
    "        w[6] = w[6]-p1*h1 \n",
    "        w[7] = w[7]-p2*h1 \n",
    "        w[8] = w[8]-p1*h2 \n",
    "        w[9] = w[9]-p2*h2 \n",
    "        w[10]=w[10]-p1*h3 \n",
    "        w[11]=w[11]-p2*h3        \n",
    "    return w\n",
    "    \n",
    "print('Step1: 初始化参数...')\n",
    "x = [3,6]\n",
    "y = [0,1] \n",
    "w = [0.11, 0.12, 0.13, 0.14, 0.15, 0.16, 0.17, 0.18, 0.19, 0.2, 0.21, 0.22]\n",
    "b = [0.3, 0.6]\n",
    "lrate=0.3\n",
    "\n",
    "print('Step2: fit...')\n",
    "print('Step3: predict...')\n",
    "print('  真值为：',y)\n",
    "sumDS = []  \n",
    "for epochs in range(0,51,5): \n",
    "    h1,h2,h3,o1,o2=forward_NN(x,w,b)\n",
    "    #step2:fit\n",
    "    w=fit(o1,o2,y,x,w,lrate,epochs)\n",
    "    \n",
    "    #step3:predict\n",
    "    h1,h2,h3,o1,o2=forward_NN(x,w,b)\n",
    "    print('  迭代',epochs,'次后的输出为：',o1,o2)\n",
    "    sumDS.append((o1-y[0])+(o2-y[1])) \n",
    "print('Step4:Plot...')\n",
    "plt.plot(range(0, 51,5),sumDS)\n",
    "plt.title('The Epoch-Error plot ')\n",
    "plt.xlabel('Epochs')\n",
    "plt.ylabel('Total error')  \n",
    "plt.show()"
   ]
  },
  {
   "cell_type": "markdown",
   "metadata": {},
   "source": [
    "# 10.4 本章实验\n",
    "## 一、Python实现双层感知器"
   ]
  },
  {
   "cell_type": "code",
   "execution_count": 4,
   "metadata": {},
   "outputs": [
    {
     "name": "stdout",
     "output_type": "stream",
     "text": [
      "Epochs= 1 Error is: [[0.62992839 0.02101083 0.82700114 0.00372205]]\n",
      "Epochs= 2 Error is: [[0.5794095  0.02433357 0.79515953 0.00481727]]\n",
      "Epochs= 3 Error is: [[0.52189729 0.02840525 0.75435943 0.00636998]]\n",
      "Epochs= 4 Error is: [[0.45858026 0.0333256  0.70234828 0.00858886]]\n",
      "Epochs= 5 Error is: [[0.39214224 0.03910181 0.63736665 0.01174456]]\n",
      "Epochs= 6 Error is: [[0.32664767 0.04554759 0.55954745 0.01611974]]\n",
      "Epochs= 7 Error is: [[0.26663617 0.05217631 0.47274428 0.02185523]]\n",
      "Epochs= 8 Error is: [[0.21569077 0.05818141 0.38512309 0.02868732]]\n",
      "Epochs= 9 Error is: [[0.17532238 0.06263796 0.30634912 0.0357754 ]]\n",
      "Epochs= 10 Error is: [[0.14488622 0.06491447 0.24265402 0.04196281]]\n",
      "Epochs= 11 Error is: [[0.12245075 0.06497255 0.19472061 0.04638788]]\n",
      "Epochs= 12 Error is: [[0.10585682 0.06327005 0.15972972 0.04883442]]\n",
      "Epochs= 13 Error is: [[0.09332822 0.06043519 0.13415176 0.04958423]]\n",
      "Epochs= 14 Error is: [[0.08360065 0.05701942 0.11509871 0.04910159]]\n",
      "Epochs= 15 Error is: [[0.07582874 0.05341263 0.10053965 0.04782433]]\n",
      "Epochs= 16 Error is: [[0.06945661 0.04985489 0.08912088 0.04608854]]\n",
      "Epochs= 17 Error is: [[0.0641159  0.04647742 0.07994841 0.04412598]]\n",
      "Epochs= 18 Error is: [[0.05955763 0.04334151 0.07242503 0.04208613]]\n",
      "Epochs= 19 Error is: [[0.05560903 0.04046699 0.06614342 0.04006044]]\n",
      "Epochs= 20 Error is: [[0.05214695 0.03785065 0.060819   0.0381019 ]]\n"
     ]
    }
   ],
   "source": [
    "import numpy as np \n",
    "#定义sigmoid函数 \n",
    "def sigmoid(x):\n",
    "    return (1/(1+np.exp(-x))) \n",
    "\n",
    "#定义sigmoid导数 \n",
    "def dSigmoid(y):\n",
    "    return y*(1-y) \n",
    "\n",
    "#输入数据\n",
    "X = np.array([  [0,0,1],\n",
    "                [0,1,1],\n",
    "                [1,0,1],\n",
    "                [1,1,1] ])\n",
    "#标记\n",
    "y = np.array([[0,1,0,1]]).T\n",
    "\n",
    "#初始化权重和学习率\n",
    "w0 = np.random.random((3,1))  #with 3 rows and 1 column\n",
    "#print(w0)\n",
    "b0=0.5\n",
    "lrate=0.3\n",
    "\n",
    "#迭代次数epoches=20\n",
    "for Epochs in range(20):\n",
    "    \n",
    "    #前向\n",
    "    inX = X\n",
    "    outY = sigmoid(np.dot(inX,w0)+b0)\n",
    "        \n",
    "    #BP更新\n",
    "    w0 += lrate*np.dot(inX.T,2*(y-outY) *dSigmoid(outY))\n",
    "    b0 += lrate*2*(y-outY) *dSigmoid(outY)    \n",
    "    \n",
    "    Err=(y-outY)*(y-outY)\n",
    "    print('Epochs=',Epochs+1,'Error is:',Err.T)"
   ]
  },
  {
   "cell_type": "markdown",
   "metadata": {},
   "source": [
    "# 二、实验：使用神经网络感知器算法进行鸢尾花分类。"
   ]
  },
  {
   "cell_type": "code",
   "execution_count": 5,
   "metadata": {},
   "outputs": [
    {
     "name": "stdout",
     "output_type": "stream",
     "text": [
      "Step1:data loading...\n",
      "Step2:data ploting...\n"
     ]
    },
    {
     "data": {
      "image/png": "[encoded data removed]",
      "text/plain": [
       "<Figure size 432x288 with 1 Axes>"
      ]
     },
     "metadata": {},
     "output_type": "display_data"
    },
    {
     "name": "stdout",
     "output_type": "stream",
     "text": [
      "Step3:Network Building...\n",
      "Step4:fitting ...\n",
      "  initial weight: [0. 0.]\n",
      "  weight after  1  epochs: [-2.8  -1.88]\n",
      "  weight after  2  epochs: [-1.6  -2.64]\n",
      "  weight after  3  epochs: [-0.4 -3.4]\n",
      "  weight after  4  epochs: [-0.64 -4.24]\n",
      "  weight after  5  epochs: [ 1.4  -3.68]\n",
      "  weight after  6  epochs: [ 1.4  -3.68]\n",
      "  weight after  7  epochs: [ 1.4  -3.68]\n",
      "  weight after  8  epochs: [ 1.4  -3.68]\n",
      "  weight after  9  epochs: [ 1.4  -3.68]\n",
      "  weight after  10  epochs: [ 1.4  -3.68]\n",
      "Step5:predicting...\n",
      "  iris1 result: 1\n",
      "  iris2 result: -1\n",
      "  iris3 result: -1\n"
     ]
    }
   ],
   "source": [
    "import numpy as np\n",
    "import pandas as pd\n",
    "import matplotlib.pyplot as plt  \n",
    "\n",
    "#神经网络类\n",
    "class ANNnet(object):  \n",
    "    def __init__(self, lrate=0.2, epochs=10):  #初始化函数\n",
    "        self.lrate = lrate\n",
    "        self.epochs = epochs\n",
    "    def fit(self, X, Y):  #训练函数\n",
    "        self.weight = np.zeros(X.shape[1])        \n",
    "        print('  initial weight:',self.weight)\n",
    "        self.b=0\n",
    "        for i in range(self.epochs):\n",
    "            for x, y in zip(X, Y):\n",
    "                delta = self.lrate * (y - self.predict(x))\n",
    "                self.weight[:] += delta * x\n",
    "                self.b += delta\n",
    "            print('  weight after ',i+1,' epochs:',self.weight)\n",
    "\n",
    "    def net_input(self, X):\n",
    "        return \n",
    "    def predict(self, X):  #预测函数\n",
    "        y=np.dot(X, self.weight[:]) + self.b\n",
    "        return np.where(y >= 0, 1, -1)\n",
    "\n",
    "#加载数据\n",
    "print('Step1:data loading...')\n",
    "datafile = 'iris.csv'\n",
    "df = pd.read_csv(datafile, header=None)\n",
    "\n",
    "#绘制样本分布图\n",
    "print('Step2:data ploting...')\n",
    "Y = df.loc[0:, 4].values\n",
    "Y = np.where(Y == \"setosa\", 1, -1)\n",
    "X = df.iloc[0:, [0, 2]].values\n",
    "plt.scatter(X[:50, 0], X[:50, 1], color=\"red\", marker='o', label='Setosa')\n",
    "plt.scatter(X[50:, 0], X[50:, 1], color=\"blue\", marker='o', label='Versicolor or Virginica')\n",
    "plt.xlabel(\"petal length\")\n",
    "plt.ylabel(\"sepal lengthh\")\n",
    "plt.legend(loc='upper left')\n",
    "plt.show() \n",
    "#构建神经网络模型\n",
    "print('Step3:Network Building...')\n",
    "pr = ANNnet()\n",
    "#进行训练\n",
    "print('Step4:fitting ...')\n",
    "pr.fit(X, Y)\n",
    "\n",
    "#使用三个测试样本进行预测\n",
    "print('Step5:predicting...')\n",
    "print('  iris1 result:',pr.predict([5.1,1.4]))\n",
    "print('  iris2 result:',pr.predict([7,4.7]))\n",
    "print('  iris3 result:',pr.predict([5.9,5.1]))"
   ]
  },
  {
   "cell_type": "code",
   "execution_count": null,
   "metadata": {},
   "outputs": [],
   "source": []
  }
 ],
 "metadata": {
  "kernelspec": {
   "display_name": "Python 3",
   "language": "python",
   "name": "python3"
  },
  "language_info": {
   "codemirror_mode": {
    "name": "ipython",
    "version": 3
   },
   "file_extension": ".py",
   "mimetype": "text/x-python",
   "name": "python",
   "nbconvert_exporter": "python",
   "pygments_lexer": "ipython3",
   "version": "3.6.5"
  }
 },
 "nbformat": 4,
 "nbformat_minor": 2
}
