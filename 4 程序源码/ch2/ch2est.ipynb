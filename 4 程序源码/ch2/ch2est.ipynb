{
 "cells": [
  {
   "cell_type": "code",
   "execution_count": 1,
   "metadata": {},
   "outputs": [
    {
     "name": "stdout",
     "output_type": "stream",
     "text": [
      "Nation\n"
     ]
    }
   ],
   "source": [
    "s=\"the National Day\"\n",
    "print(s[4:10])"
   ]
  },
  {
   "cell_type": "code",
   "execution_count": 2,
   "metadata": {},
   "outputs": [
    {
     "name": "stdout",
     "output_type": "stream",
     "text": [
      "National\n"
     ]
    }
   ],
   "source": [
    "lst=[\"the\",\"National\",\"Day\"]\n",
    "print(lst[1])"
   ]
  },
  {
   "cell_type": "code",
   "execution_count": 14,
   "metadata": {},
   "outputs": [
    {
     "name": "stdout",
     "output_type": "stream",
     "text": [
      "(['Today', 'is', 'the'], 'National', 'Day')\n"
     ]
    }
   ],
   "source": [
    "tpl=(['10.1','is','the'],'National','Day')\n",
    "tpl[0][0]=\"Today\"\n",
    "print(tpl)"
   ]
  },
  {
   "cell_type": "code",
   "execution_count": 20,
   "metadata": {},
   "outputs": [
    {
     "name": "stdout",
     "output_type": "stream",
     "text": [
      "{'name': 'J Hotle', 'count': 36, 'price': 162}\n"
     ]
    }
   ],
   "source": [
    "Hotel={'name':'J Hotle','count':35,'price':162}\n",
    "Hotel['count']=36\n",
    "print(Hotel)"
   ]
  },
  {
   "cell_type": "code",
   "execution_count": 22,
   "metadata": {},
   "outputs": [
    {
     "name": "stdout",
     "output_type": "stream",
     "text": [
      "False\n"
     ]
    }
   ],
   "source": [
    "Hset={'A Hotel','B Hotel','C Hotel'}\n",
    "print('E Hotel' in Hset)"
   ]
  },
  {
   "cell_type": "code",
   "execution_count": 9,
   "metadata": {},
   "outputs": [
    {
     "name": "stdout",
     "output_type": "stream",
     "text": [
      "fruit_label\tfruit_name\tfruit_subtype\tmass\twidth\theight\tcolor_score\n",
      "1\tapple\tgranny_smith\t192\t8.4\t7.3\t0.55\n",
      "1\tapple\tgranny_smith\t180\t8.0\t6.8\t0.59\n",
      "1\tapple\tgranny_smith\t176\t7.4\t7.2\t0.60\n",
      "2\tmandarin\tmandarin\t86 \t6.2\t4.7\t0.80\n",
      "2\tmandarin\tmandarin\t84 \t6.0\t4.6\t0.79\n",
      "2\tmandarin\tmandarin\t80 \t5.8\t4.3\t0.77\n",
      "2\tmandarin\tmandarin\t80 \t5.9 \t4.3\t0.81\n",
      "2\tmandarin\tmandarin\t76\t5.8\t4.0\t0.81\n"
     ]
    }
   ],
   "source": [
    "with open('fruit_data_with_colors.txt') as f: \n",
    "    lines = f.readlines()  #文件数据读到一个列表，每个元素对应一行\n",
    "for i in range(0,9):\n",
    "    print(lines[i].strip())"
   ]
  },
  {
   "cell_type": "code",
   "execution_count": null,
   "metadata": {},
   "outputs": [],
   "source": []
  }
 ],
 "metadata": {
  "kernelspec": {
   "display_name": "Python 3",
   "language": "python",
   "name": "python3"
  },
  "language_info": {
   "codemirror_mode": {
    "name": "ipython",
    "version": 3
   },
   "file_extension": ".py",
   "mimetype": "text/x-python",
   "name": "python",
   "nbconvert_exporter": "python",
   "pygments_lexer": "ipython3",
   "version": "3.6.5"
  }
 },
 "nbformat": 4,
 "nbformat_minor": 2
}
